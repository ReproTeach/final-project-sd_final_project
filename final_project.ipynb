{
 "cells": [
  {
   "cell_type": "markdown",
   "id": "8b750025-903e-443c-a7d2-2198a797cd7d",
   "metadata": {},
   "source": [
    "# Your Final Project Title\n",
    "\n",
    "- member 1: Zekai Wu\n",
    "- member 2: Ian Huang\n",
    "- member 3: Amith Bhat\n",
    "- member 4: Fai\n",
    "- member 5: Nayeon"
   ]
  },
  {
   "cell_type": "markdown",
   "id": "449acb44-6076-4fde-8b90-d20b5441d15c",
   "metadata": {},
   "source": [
    "### Introduction"
   ]
  },
  {
   "cell_type": "markdown",
   "id": "c80262ce-81cd-4340-8614-8763c1849b2e",
   "metadata": {},
   "source": [
    "##### This  project is looks at the topics and themes discussed in a collection of COVID-19 tweets. "
   ]
  },
  {
   "cell_type": "code",
   "execution_count": null,
   "id": "17132abd-1beb-49bd-8b32-2b2457bf50de",
   "metadata": {},
   "outputs": [],
   "source": []
  }
 ],
 "metadata": {
  "kernelspec": {
   "display_name": "Python 3 (ipykernel)",
   "language": "python",
   "name": "python3"
  },
  "language_info": {
   "codemirror_mode": {
    "name": "ipython",
    "version": 3
   },
   "file_extension": ".py",
   "mimetype": "text/x-python",
   "name": "python",
   "nbconvert_exporter": "python",
   "pygments_lexer": "ipython3",
   "version": "3.10.9"
  }
 },
 "nbformat": 4,
 "nbformat_minor": 5
}
