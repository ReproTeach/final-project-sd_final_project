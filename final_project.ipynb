{
 "cells": [
  {
   "cell_type": "markdown",
   "id": "8b750025-903e-443c-a7d2-2198a797cd7d",
   "metadata": {},
   "source": [
    "# Your Final Project Title\n",
    "\n",
    "- member 1: Zekai Wu\n",
    "- member 2: Ian Huang\n",
    "- member 3: Amith Bhat\n",
    "- member 4: Fai\n",
    "- member 5: Nayeon"
   ]
  },
  {
   "cell_type": "markdown",
   "id": "f03ef102-523d-4f2f-95d6-3b65d11f2e2d",
   "metadata": {},
   "source": [
    "### Introduction"
   ]
  },
  {
   "cell_type": "markdown",
   "id": "f07ca0b4-1db7-4cd1-ba7f-d4d287304d66",
   "metadata": {},
   "source": [
    "##### This  project is looks at the topics and themes discussed in a collection of COVID-19 tweets. "
   ]
  },
  {
   "cell_type": "code",
   "execution_count": null,
   "id": "6d1f84d0-9e35-4495-8201-f06b00c45927",
   "metadata": {},
   "outputs": [],
   "source": []
  }
 ],
 "metadata": {
  "kernelspec": {
   "display_name": "Python 3 (ipykernel)",
   "language": "python",
   "name": "python3"
  },
  "language_info": {
   "codemirror_mode": {
    "name": "ipython",
    "version": 3
   },
   "file_extension": ".py",
   "mimetype": "text/x-python",
   "name": "python",
   "nbconvert_exporter": "python",
   "pygments_lexer": "ipython3",
   "version": "3.10.9"
  }
 },
 "nbformat": 4,
 "nbformat_minor": 5
}
